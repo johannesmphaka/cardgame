{
 "cells": [
  {
   "cell_type": "code",
   "execution_count": 6,
   "metadata": {},
   "outputs": [],
   "source": [
    "import requests\n",
    "\n",
    "deckurl_ = requests.get(\"https://deckofcardsapi.com/api/deck/new/shuffle/?deck_count=1\").json()"
   ]
  },
  {
   "cell_type": "code",
   "execution_count": 8,
   "metadata": {},
   "outputs": [
    {
     "data": {
      "text/plain": [
       "{'success': True, 'deck_id': '9mw06c8dz7m5', 'remaining': 52, 'shuffled': True}"
      ]
     },
     "execution_count": 8,
     "metadata": {},
     "output_type": "execute_result"
    }
   ],
   "source": [
    "deckurl = deckurl_.json()\n",
    "deckurl"
   ]
  },
  {
   "cell_type": "code",
   "execution_count": 64,
   "metadata": {},
   "outputs": [
    {
     "ename": "IndexError",
     "evalue": "list index out of range",
     "output_type": "error",
     "traceback": [
      "\u001b[0;31m---------------------------------------------------------------------------\u001b[0m",
      "\u001b[0;31mIndexError\u001b[0m                                Traceback (most recent call last)",
      "Cell \u001b[0;32mIn[64], line 6\u001b[0m\n\u001b[1;32m      4\u001b[0m cardurl \u001b[39m=\u001b[39m \u001b[39mf\u001b[39m\u001b[39m'\u001b[39m\u001b[39mhttps://deckofcardsapi.com/api/deck/\u001b[39m\u001b[39m{\u001b[39;00mdeckid\u001b[39m}\u001b[39;00m\u001b[39m/draw/?count=1\u001b[39m\u001b[39m'\u001b[39m\n\u001b[1;32m      5\u001b[0m deckurl_card \u001b[39m=\u001b[39m requests\u001b[39m.\u001b[39mget(cardurl)\u001b[39m.\u001b[39mjson()\n\u001b[0;32m----> 6\u001b[0m ign_name \u001b[39m=\u001b[39m deckurl_card[\u001b[39m'\u001b[39;49m\u001b[39mcards\u001b[39;49m\u001b[39m'\u001b[39;49m][\u001b[39m0\u001b[39;49m][\u001b[39m'\u001b[39m\u001b[39mcode\u001b[39m\u001b[39m'\u001b[39m]\n\u001b[1;32m      7\u001b[0m ign_url \u001b[39m=\u001b[39m deckurl_card[\u001b[39m'\u001b[39m\u001b[39mcards\u001b[39m\u001b[39m'\u001b[39m][\u001b[39m0\u001b[39m][\u001b[39m'\u001b[39m\u001b[39mimage\u001b[39m\u001b[39m'\u001b[39m]\n\u001b[1;32m      8\u001b[0m img_data \u001b[39m=\u001b[39m requests\u001b[39m.\u001b[39mget(ign_url)\u001b[39m.\u001b[39mcontent\n",
      "\u001b[0;31mIndexError\u001b[0m: list index out of range"
     ]
    }
   ],
   "source": [
    "for i in range(52):\n",
    "    deckurl = deckurl_.json()\n",
    "    deckid = deckurl['deck_id']\n",
    "    cardurl = f'https://deckofcardsapi.com/api/deck/{deckid}/draw/?count=1'\n",
    "    deckurl_card = requests.get(cardurl).json()\n",
    "    ign_name = deckurl_card['cards'][0]['code']\n",
    "    ign_url = deckurl_card['cards'][0]['image']\n",
    "    img_data = requests.get(ign_url).content\n",
    "    with open(f'static/images/img/{ign_name}.png', 'wb') as handler:\n",
    "        handler.write(img_data)\n",
    "    "
   ]
  },
  {
   "cell_type": "code",
   "execution_count": 52,
   "metadata": {},
   "outputs": [
    {
     "data": {
      "text/plain": [
       "{'code': '9C',\n",
       " 'image': 'https://deckofcardsapi.com/static/img/9C.png',\n",
       " 'images': {'svg': 'https://deckofcardsapi.com/static/img/9C.svg',\n",
       "  'png': 'https://deckofcardsapi.com/static/img/9C.png'},\n",
       " 'value': '9',\n",
       " 'suit': 'CLUBS'}"
      ]
     },
     "execution_count": 52,
     "metadata": {},
     "output_type": "execute_result"
    }
   ],
   "source": []
  },
  {
   "cell_type": "code",
   "execution_count": 61,
   "metadata": {},
   "outputs": [],
   "source": [
    "import requests\n",
    "\n",
    "ign_url = deckurl_card['cards'][0]['image']\n",
    "img_data = requests.get(ign_url).content\n",
    "with open('image_name.png', 'wb') as handler:\n",
    "    handler.write(img_data)"
   ]
  },
  {
   "cell_type": "code",
   "execution_count": 55,
   "metadata": {},
   "outputs": [],
   "source": [
    "img_data = requests.get(cardurl).json()\n"
   ]
  },
  {
   "cell_type": "code",
   "execution_count": 60,
   "metadata": {},
   "outputs": [
    {
     "data": {
      "text/plain": [
       "'https://deckofcardsapi.com/static/img/9C.png'"
      ]
     },
     "execution_count": 60,
     "metadata": {},
     "output_type": "execute_result"
    }
   ],
   "source": [
    "ign_url"
   ]
  },
  {
   "cell_type": "code",
   "execution_count": 46,
   "metadata": {},
   "outputs": [
    {
     "name": "stdout",
     "output_type": "stream",
     "text": [
      "12\n"
     ]
    }
   ],
   "source": [
    "\n",
    "deckurl = deckurl_.json()\n",
    "deckid = deckurl['deck_id']\n",
    "cardurl = f'https://deckofcardsapi.com/api/deck/{deckid}/draw/?count=1'\n",
    "deckurl_card = requests.get(cardurl).json()\n",
    "value = deckurl_card['cards'][0]['value']\n",
    "ac = 11\n",
    "def cond(x):\n",
    "    if x == 'QUEEN' or x=='KING' or x=='JACK':\n",
    "        return 10\n",
    "    if x == 'ACE' and (ac + 11)<21:\n",
    "        return ac + 11\n",
    "    if x == 'ACE' and (ac + 11)>21:\n",
    "        return ac + 1\n",
    "\n",
    "    else:\n",
    "        return int(x)\n",
    "    \n",
    "print(cond(value))\n",
    "    "
   ]
  },
  {
   "cell_type": "code",
   "execution_count": null,
   "metadata": {},
   "outputs": [],
   "source": []
  },
  {
   "cell_type": "code",
   "execution_count": 28,
   "metadata": {},
   "outputs": [
    {
     "data": {
      "text/plain": [
       "'https://deckofcardsapi.com/static/img/QH.png'"
      ]
     },
     "execution_count": 28,
     "metadata": {},
     "output_type": "execute_result"
    }
   ],
   "source": [
    "deckurl_card['cards'][0]['image']"
   ]
  }
 ],
 "metadata": {
  "kernelspec": {
   "display_name": "automl",
   "language": "python",
   "name": "python3"
  },
  "language_info": {
   "codemirror_mode": {
    "name": "ipython",
    "version": 3
   },
   "file_extension": ".py",
   "mimetype": "text/x-python",
   "name": "python",
   "nbconvert_exporter": "python",
   "pygments_lexer": "ipython3",
   "version": "3.9.16"
  },
  "orig_nbformat": 4,
  "vscode": {
   "interpreter": {
    "hash": "aaae5c60aff74787d17b3c268035eff90129052314621254722fecfd4a6a51b4"
   }
  }
 },
 "nbformat": 4,
 "nbformat_minor": 2
}
